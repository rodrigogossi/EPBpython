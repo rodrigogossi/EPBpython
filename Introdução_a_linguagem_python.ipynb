{
  "nbformat": 4,
  "nbformat_minor": 0,
  "metadata": {
    "colab": {
      "provenance": [],
      "include_colab_link": true
    },
    "kernelspec": {
      "name": "python3",
      "display_name": "Python 3"
    },
    "language_info": {
      "name": "python"
    }
  },
  "cells": [
    {
      "cell_type": "markdown",
      "metadata": {
        "id": "view-in-github",
        "colab_type": "text"
      },
      "source": [
        "<a href=\"https://colab.research.google.com/github/rodrigogossi/EPBpython/blob/main/Introdu%C3%A7%C3%A3o_a_linguagem_python.ipynb\" target=\"_parent\"><img src=\"https://colab.research.google.com/assets/colab-badge.svg\" alt=\"Open In Colab\"/></a>"
      ]
    },
    {
      "cell_type": "markdown",
      "source": [
        "# Introdução"
      ],
      "metadata": {
        "id": "PG4CYDx1H-2n"
      }
    },
    {
      "cell_type": "code",
      "source": [
        "# Variáveis\n",
        "a = \"Ola mundo\"\n",
        "b = \"Hello World\"\n",
        "c = \"Ola alunos\"\n",
        "d = \"Ola UTFPR\"\n",
        "e = \"Disciplina\"\n",
        "f = \"Programação de Computadores\"\n",
        "print(a)\n",
        "print(b)\n",
        "print(c)\n",
        "print(d)\n",
        "print(e+\" de \"+f)"
      ],
      "metadata": {
        "id": "iSNRSxTVIcS5",
        "colab": {
          "base_uri": "https://localhost:8080/"
        },
        "outputId": "7c0a90db-8e61-423f-fe56-57188749b769"
      },
      "execution_count": null,
      "outputs": [
        {
          "output_type": "stream",
          "name": "stdout",
          "text": [
            "Ola mundo\n",
            "Hello World\n",
            "Ola alunos\n",
            "Ola UTFPR\n",
            "Disciplina de Programação de Computadores\n"
          ]
        }
      ]
    },
    {
      "cell_type": "code",
      "source": [
        "# Leitura - entrada de dado\n",
        "nome = input('Digite seu nome: ')\n",
        "disciplina = input('Digite sua disciplina: ')\n",
        "print('Ola '+nome+', muito prazer em conhecer voce. Esperamos que goste muito da disciplina de '+disciplina)"
      ],
      "metadata": {
        "colab": {
          "base_uri": "https://localhost:8080/"
        },
        "id": "_6KKkgFmLhPB",
        "outputId": "d7330284-5087-4593-fdfb-46b3dfebfdee"
      },
      "execution_count": null,
      "outputs": [
        {
          "output_type": "stream",
          "name": "stdout",
          "text": [
            "Digite seu nome: Mar\n",
            "Digite sua disciplina: educação física\n",
            "Ola Mar, muito prazer em conhecer voce. Esperamos que goste muito da disciplina de educação física\n"
          ]
        }
      ]
    },
    {
      "cell_type": "code",
      "source": [
        "a = \"abcdefghijkl\"\n",
        "print(a[9])\n",
        "print(a[0])\n",
        "print(a[3])\n",
        "print(a[3:])\n",
        "#Vamos ver a primeira letra do seu nome\n",
        "nome = input(\"Digite seu primeiro nome: \")\n",
        "print(\"A primeira letra do seu nome é: \"+nome[0])"
      ],
      "metadata": {
        "colab": {
          "base_uri": "https://localhost:8080/"
        },
        "id": "eo5UXVFrLt4q",
        "outputId": "ad9fbea4-f2be-4791-820c-5baafa6370b7"
      },
      "execution_count": null,
      "outputs": [
        {
          "output_type": "stream",
          "name": "stdout",
          "text": [
            "j\n",
            "a\n",
            "d\n",
            "defghijkl\n",
            "Digite seu primeiro nome: mar\n",
            "A primeira letra do seu nome ´e: m\n"
          ]
        }
      ]
    },
    {
      "cell_type": "markdown",
      "source": [
        "# Estruturas de Decisão"
      ],
      "metadata": {
        "id": "quAXFYvDICbJ"
      }
    },
    {
      "cell_type": "code",
      "source": [
        "# Exemplo de bloco de decisão condicional simples\n",
        "print (\"Informe um número real\")\n",
        "num = float(input())\n",
        "if (num > 0):\n",
        "    print (\"O número \", num, \"é positivo. \")\n",
        "if (num <= 0):\n",
        "    print (\"O número \", num, \"é não-positivo. \")"
      ],
      "metadata": {
        "colab": {
          "base_uri": "https://localhost:8080/"
        },
        "id": "4JOiTCdpL73G",
        "outputId": "fcb663c2-6cf5-419a-a7a6-cfef0f6dc08b"
      },
      "execution_count": null,
      "outputs": [
        {
          "output_type": "stream",
          "name": "stdout",
          "text": [
            "Informe um número real\n",
            "19\n",
            "O número  19.0 é positivo. \n"
          ]
        }
      ]
    },
    {
      "cell_type": "code",
      "source": [
        "# Receber um número como entrada do usuários e dizer se o numero é positivo ou não-positivo\n",
        "print (\"Informe um número real\")\n",
        "num = float(input())\n",
        "if (num > 0):\n",
        "    print (\"O número \", num, \"é positivo. \")\n",
        "else:\n",
        "    print (\"O número \", num, \"é não-positivo. \")"
      ],
      "metadata": {
        "colab": {
          "base_uri": "https://localhost:8080/"
        },
        "id": "izzRI9R5L_Zj",
        "outputId": "0aeff5c1-637b-47d2-aa42-846dbf528a53"
      },
      "execution_count": null,
      "outputs": [
        {
          "output_type": "stream",
          "name": "stdout",
          "text": [
            "Informe um número real\n",
            "25\n",
            "O número  25.0 é positivo. \n"
          ]
        }
      ]
    },
    {
      "cell_type": "code",
      "source": [
        "# Verificar se um número é positivo, negativo ou nulo.\n",
        "print (\"Informe um número real\")\n",
        "num = float(input())\n",
        "if (num > 0):\n",
        "    print (\"O número \", num, \"é positivo. \")\n",
        "else:\n",
        "    if (num <=0):\n",
        "        print (\"O número \", num, \"é negativo. \")\n",
        "    else:\n",
        "        print (\"O número \", num, \"é nulo. \")"
      ],
      "metadata": {
        "colab": {
          "base_uri": "https://localhost:8080/"
        },
        "id": "OkNMIHihMCO9",
        "outputId": "db49e096-605f-4c57-b0d0-8d6238f030a2"
      },
      "execution_count": null,
      "outputs": [
        {
          "output_type": "stream",
          "name": "stdout",
          "text": [
            "Informe um número real\n",
            "-12\n",
            "O número  -12.0 é negativo. \n"
          ]
        }
      ]
    },
    {
      "cell_type": "markdown",
      "source": [
        "# Estruturas de Repetição"
      ],
      "metadata": {
        "id": "rjxpt7VsIH_C"
      }
    },
    {
      "cell_type": "code",
      "source": [
        "# Iteração é um processo de repetição.\n",
        "# Os loops serverm para evitar replicação de código\n",
        "# Os laços de repetição, executam um bloco de comando repetidamente\n",
        "# até que uma condição seja satisfeita\n",
        "\n",
        "# while expression:\n",
        "#     statement(s)\n",
        "\n",
        "# imagine escrever uma grande quantidade de código para resolver\n",
        "# um problema que possa ser resolvido em uma quantidade menor de código,\n",
        "# ou seja, repetições sistêmicas.\n",
        "print('python é legal 1')\n",
        "print('python é legal 2')\n",
        "print('python é legal 3')\n",
        "# ...\n",
        "print('python é legal 99')\n",
        "print('python é legal 100')"
      ],
      "metadata": {
        "colab": {
          "base_uri": "https://localhost:8080/"
        },
        "id": "xBq9x8wkMN1z",
        "outputId": "359312b6-8be5-419d-a626-fe1c42423713"
      },
      "execution_count": null,
      "outputs": [
        {
          "output_type": "stream",
          "name": "stdout",
          "text": [
            "python é legal 1\n",
            "python é legal 2\n",
            "python é legal 3\n",
            "python é legal 99\n",
            "python é legal 100\n"
          ]
        }
      ]
    },
    {
      "cell_type": "code",
      "source": [
        "# while loop ou laço enquanto\n",
        "count = 0\n",
        "while (count < 3):\n",
        "\tcount = count + 1\n",
        "\tprint(\"Hello Geek\")\n",
        "\n",
        "# Hello Geek\n",
        "# Hello Geek\n",
        "# Hello Geek\n",
        "\n",
        "# resolvendo o exemplo inicial com um laço\n",
        "count = 0\n",
        "while (count < 100):\n",
        "\tcount = count + 1\n",
        "\tprint('python é legal {0}'.format(count))\n",
        "\n",
        "# python é legal 1\n",
        "# python é legal 2\n",
        "# ...\n",
        "# python é legal 100"
      ],
      "metadata": {
        "colab": {
          "base_uri": "https://localhost:8080/"
        },
        "id": "vqC2LzHVMSiw",
        "outputId": "6f6d0424-9589-4998-ec74-4be098c0a980"
      },
      "execution_count": null,
      "outputs": [
        {
          "output_type": "stream",
          "name": "stdout",
          "text": [
            "Hello Geek\n",
            "Hello Geek\n",
            "Hello Geek\n",
            "python é legal 1\n",
            "python é legal 2\n",
            "python é legal 3\n",
            "python é legal 4\n",
            "python é legal 5\n",
            "python é legal 6\n",
            "python é legal 7\n",
            "python é legal 8\n",
            "python é legal 9\n",
            "python é legal 10\n",
            "python é legal 11\n",
            "python é legal 12\n",
            "python é legal 13\n",
            "python é legal 14\n",
            "python é legal 15\n",
            "python é legal 16\n",
            "python é legal 17\n",
            "python é legal 18\n",
            "python é legal 19\n",
            "python é legal 20\n",
            "python é legal 21\n",
            "python é legal 22\n",
            "python é legal 23\n",
            "python é legal 24\n",
            "python é legal 25\n",
            "python é legal 26\n",
            "python é legal 27\n",
            "python é legal 28\n",
            "python é legal 29\n",
            "python é legal 30\n",
            "python é legal 31\n",
            "python é legal 32\n",
            "python é legal 33\n",
            "python é legal 34\n",
            "python é legal 35\n",
            "python é legal 36\n",
            "python é legal 37\n",
            "python é legal 38\n",
            "python é legal 39\n",
            "python é legal 40\n",
            "python é legal 41\n",
            "python é legal 42\n",
            "python é legal 43\n",
            "python é legal 44\n",
            "python é legal 45\n",
            "python é legal 46\n",
            "python é legal 47\n",
            "python é legal 48\n",
            "python é legal 49\n",
            "python é legal 50\n",
            "python é legal 51\n",
            "python é legal 52\n",
            "python é legal 53\n",
            "python é legal 54\n",
            "python é legal 55\n",
            "python é legal 56\n",
            "python é legal 57\n",
            "python é legal 58\n",
            "python é legal 59\n",
            "python é legal 60\n",
            "python é legal 61\n",
            "python é legal 62\n",
            "python é legal 63\n",
            "python é legal 64\n",
            "python é legal 65\n",
            "python é legal 66\n",
            "python é legal 67\n",
            "python é legal 68\n",
            "python é legal 69\n",
            "python é legal 70\n",
            "python é legal 71\n",
            "python é legal 72\n",
            "python é legal 73\n",
            "python é legal 74\n",
            "python é legal 75\n",
            "python é legal 76\n",
            "python é legal 77\n",
            "python é legal 78\n",
            "python é legal 79\n",
            "python é legal 80\n",
            "python é legal 81\n",
            "python é legal 82\n",
            "python é legal 83\n",
            "python é legal 84\n",
            "python é legal 85\n",
            "python é legal 86\n",
            "python é legal 87\n",
            "python é legal 88\n",
            "python é legal 89\n",
            "python é legal 90\n",
            "python é legal 91\n",
            "python é legal 92\n",
            "python é legal 93\n",
            "python é legal 94\n",
            "python é legal 95\n",
            "python é legal 96\n",
            "python é legal 97\n",
            "python é legal 98\n",
            "python é legal 99\n",
            "python é legal 100\n"
          ]
        }
      ]
    },
    {
      "cell_type": "code",
      "source": [
        "# iteração sobre a faixa de valores de 0 até n-1 usando comando for\n",
        "n = 4\n",
        "for i in range(0, n):\n",
        "\tprint(i)\n",
        "# 0\n",
        "# 1\n",
        "# 2\n",
        "# 3"
      ],
      "metadata": {
        "colab": {
          "base_uri": "https://localhost:8080/"
        },
        "id": "vcBNvJYRMZUH",
        "outputId": "ddad04d3-9789-4878-c79d-4255e9fe2a38"
      },
      "execution_count": null,
      "outputs": [
        {
          "output_type": "stream",
          "name": "stdout",
          "text": [
            "0\n",
            "1\n",
            "2\n",
            "3\n"
          ]
        }
      ]
    },
    {
      "cell_type": "code",
      "source": [
        "for i in range(4):\n",
        "    print(i+1)\n",
        "# Imprima o quadrado dos números pares até 20\n",
        "for cont in range(1, 21, 2):\n",
        "    quad = cont*cont\n",
        "    print(\"O quadrado do número \", cont, \" é \", quad)"
      ],
      "metadata": {
        "colab": {
          "base_uri": "https://localhost:8080/"
        },
        "id": "MGuoZJOLMdoy",
        "outputId": "5d09bdf9-c19b-44e2-f3fa-4923142735b6"
      },
      "execution_count": null,
      "outputs": [
        {
          "output_type": "stream",
          "name": "stdout",
          "text": [
            "1\n",
            "2\n",
            "3\n",
            "4\n",
            "O quadrado do número  1  é  1\n",
            "O quadrado do número  3  é  9\n",
            "O quadrado do número  5  é  25\n",
            "O quadrado do número  7  é  49\n",
            "O quadrado do número  9  é  81\n",
            "O quadrado do número  11  é  121\n",
            "O quadrado do número  13  é  169\n",
            "O quadrado do número  15  é  225\n",
            "O quadrado do número  17  é  289\n",
            "O quadrado do número  19  é  361\n"
          ]
        }
      ]
    },
    {
      "cell_type": "code",
      "source": [
        "# Faça a transcrição do DNA para RNA, lembrando que no RNA\n",
        "# a base nitrogenada é a uracila (U) em vez da timina (T).\n",
        "\n",
        "print(\"Informe uma sequência de DNA:\")\n",
        "dna = input()\n",
        "rna = ''\n",
        "for letra in dna:\n",
        "    if(letra == 'T' or letra == 't'):\n",
        "        rna += 'U'\n",
        "    else:\n",
        "        rna += letra\n",
        "print(\"A sequência de RNA é: \", rna)"
      ],
      "metadata": {
        "colab": {
          "base_uri": "https://localhost:8080/"
        },
        "id": "YVsEUMTfMjvR",
        "outputId": "764d998c-577e-4e2f-d96b-94a005de3697"
      },
      "execution_count": null,
      "outputs": [
        {
          "output_type": "stream",
          "name": "stdout",
          "text": [
            "Informe uma sequência de DNA:\n",
            "actact\n",
            "A sequência de RNA é:  acUacU\n"
          ]
        }
      ]
    },
    {
      "cell_type": "code",
      "source": [
        "# Verifique se um caracter está presente uma sequencia - uso do comando BREAK\n",
        "\n",
        "print(\"Informe a sequência:\")\n",
        "seq = input()\n",
        "print(\"Informe o caractere:\")\n",
        "caracter = input()\n",
        "pos = 1\n",
        "for letra in seq:\n",
        "    if(letra == caracter):\n",
        "        print(\"Primeira posição do caracter: \", pos)\n",
        "        break\n",
        "    pos += 1\n",
        "if(pos > len(seq)):\n",
        "    print(\"O caracter não está presente na sequência!\")"
      ],
      "metadata": {
        "colab": {
          "base_uri": "https://localhost:8080/"
        },
        "id": "f8ab50KYMuiV",
        "outputId": "2bed51ca-b365-48d7-df2a-388ea893e2c7"
      },
      "execution_count": null,
      "outputs": [
        {
          "output_type": "stream",
          "name": "stdout",
          "text": [
            "Informe a sequência:\n",
            "OIOIOIOI\n",
            "Informe o caractere:\n",
            "I\n",
            "Primeira posição do caracter:  2\n"
          ]
        }
      ]
    },
    {
      "cell_type": "markdown",
      "source": [
        "# Estrutura de Dados"
      ],
      "metadata": {
        "id": "4hydahgjIRBI"
      }
    },
    {
      "cell_type": "code",
      "source": [
        "# 28/04/2022\n",
        "# baseado no https://www.geeksforgeeks.org/python-data-structures/\n",
        "# para mais operações com lista,\n",
        "# https://www.educba.com/list-operations-in-python/\n",
        "# ou na documentação oficial do python\n",
        "# https://docs.python.org/3/tutorial/datastructures.html\n",
        "\n",
        "#criando uma lista com multiplos valores\n",
        "List = [\"Geeks\", \"For\", \"Geeks\"]\n",
        "print(\"\\n a Lista contém multiplos valores: \")\n",
        "print(List)\n",
        "\n",
        "# criando uma lista Multi-Dimensional\n",
        "# (aninhando uma lista dentro  de outra  Lista)\n",
        "List2 = [['Geeks', 'For'], ['Geeks'], ['Lista', 'Valores',\n",
        "'Variados', 'Inseridos']]\n",
        "print(\"\\n Multi-Dimensional List: \")\n",
        "print(List2)"
      ],
      "metadata": {
        "colab": {
          "base_uri": "https://localhost:8080/"
        },
        "id": "wBYKRJxTNBaD",
        "outputId": "7fd21c78-c93a-4183-adb8-a5fb2144e8ec"
      },
      "execution_count": null,
      "outputs": [
        {
          "output_type": "stream",
          "name": "stdout",
          "text": [
            "\n",
            " a Lista contém multiplos valores: \n",
            "['Geeks', 'For', 'Geeks']\n",
            "\n",
            " Multi-Dimensional List: \n",
            "[['Geeks', 'For'], ['Geeks'], ['Lista', 'Valores', 'Variados', 'Inseridos']]\n"
          ]
        }
      ]
    },
    {
      "cell_type": "code",
      "source": [
        "# acessando um elemento da lista, usando o número de índice\n",
        "print(\"acessando o  elemento da lista \")\n",
        "print(List[0])\n",
        "print(List[2])\n",
        "\n",
        "# acessando um elemento usando índice negativo\n",
        "print(\"acessando um elemento usando índice negativo\")\n",
        "\n",
        "# imprimindo o último elemento da lista\n",
        "print(List[-1])\n",
        "\n",
        "# imprimindo o terceiro último elemento da lista, antepenúltimo\n",
        "print(List[-3])"
      ],
      "metadata": {
        "colab": {
          "base_uri": "https://localhost:8080/"
        },
        "id": "4N6pvIhsNJl4",
        "outputId": "9606d810-cbe3-4d4b-a909-674b7cc05ced"
      },
      "execution_count": null,
      "outputs": [
        {
          "output_type": "stream",
          "name": "stdout",
          "text": [
            "acessando o  elemento da lista \n",
            "Geeks\n",
            "Geeks\n",
            "acessando um elemento usando índice negativo\n",
            "Geeks\n",
            "Geeks\n"
          ]
        }
      ]
    },
    {
      "cell_type": "code",
      "source": [
        "# para inserir um novo elemento na lista\n",
        "List.append('novo elemento')\n",
        "print(List)\n",
        "\n",
        "# para remover um elemento da lista pelo índice\n",
        "List.pop(2)\n",
        "print(List)\n",
        "\n",
        "# para remover um elemento da lista, buscando pelo elemento\n",
        "List.remove('novo elemento')\n",
        "print(List)\n",
        "\n",
        "# para saber o tamanho de uma lista\n",
        "tamanho_lista = len(List)\n",
        "print(tamanho_lista)\n",
        "\n",
        "# para limpar uma lista completamente\n",
        "List.clear()"
      ],
      "metadata": {
        "colab": {
          "base_uri": "https://localhost:8080/"
        },
        "id": "VOJKvl_vNNs-",
        "outputId": "4e8c75a8-5425-44a4-f4b7-2a91d0e54d1d"
      },
      "execution_count": null,
      "outputs": [
        {
          "output_type": "stream",
          "name": "stdout",
          "text": [
            "['Geeks', 'For', 'Geeks', 'novo elemento']\n",
            "['Geeks', 'For', 'novo elemento']\n",
            "['Geeks', 'For']\n",
            "2\n"
          ]
        }
      ]
    },
    {
      "cell_type": "code",
      "source": [
        "#Inserindo numa posição específica\n",
        "List.insert(0,\"corrida\")\n",
        "\n",
        "#Removendo do final (PILHA)\n",
        "List.append('barra')\n",
        "print(\"Remoção\")\n",
        "print(List)\n",
        "x=List.pop();\n",
        "print(x)\n",
        "print(List)\n",
        "\n"
      ],
      "metadata": {
        "colab": {
          "base_uri": "https://localhost:8080/"
        },
        "id": "fi0oV5ZbNRhS",
        "outputId": "b3126c0b-52bd-489c-99d6-d6aefb59ed7c"
      },
      "execution_count": null,
      "outputs": [
        {
          "output_type": "stream",
          "name": "stdout",
          "text": [
            "Remoção\n",
            "['corrida', 'barra']\n",
            "barra\n",
            "['corrida']\n"
          ]
        },
        {
          "output_type": "execute_result",
          "data": {
            "text/plain": [
              "['corrida']"
            ]
          },
          "metadata": {},
          "execution_count": 18
        }
      ]
    },
    {
      "cell_type": "code",
      "source": [
        "#Copiando listas\n",
        "lista2=[\"corrida\",\"barra\"]\n",
        "lista3 = lista2 ## Ponteiro:\n",
        "                ## Dois nomes para a mesma lista. Não e uma cópia.\n",
        "lista3\n",
        "lista2\n",
        "lista3.pop()\n",
        "\n",
        "print(lista3)\n",
        "print(lista2)"
      ],
      "metadata": {
        "colab": {
          "base_uri": "https://localhost:8080/"
        },
        "id": "C5aFzL8RNVwG",
        "outputId": "ad4248ef-aae5-4f16-b237-28a44edd1cd7"
      },
      "execution_count": null,
      "outputs": [
        {
          "output_type": "stream",
          "name": "stdout",
          "text": [
            "['corrida']\n",
            "['corrida']\n"
          ]
        }
      ]
    },
    {
      "cell_type": "code",
      "source": [
        "#Como fazer a cópia\n",
        "lista3 = lista2.copy();\n",
        "lista3.pop();\n",
        "lista3\n",
        "lista2\n",
        "\n",
        "#Anexando uma lista no final de outra\n",
        "lista2=[\"corrida\",\"barra\"]\n",
        "lista3=[\"flexao\",\"corda\",\"alongamento\"]\n",
        "lista2.extend(lista3)\n",
        "print(lista2)\n",
        "print(lista3)"
      ],
      "metadata": {
        "colab": {
          "base_uri": "https://localhost:8080/"
        },
        "id": "s2ihBR9LNfzm",
        "outputId": "dc538071-f418-4902-85b2-f4a42b66086b"
      },
      "execution_count": null,
      "outputs": [
        {
          "output_type": "stream",
          "name": "stdout",
          "text": [
            "['corrida', 'barra', 'flexao', 'corda', 'alongamento']\n",
            "['flexao', 'corda', 'alongamento']\n"
          ]
        }
      ]
    },
    {
      "cell_type": "code",
      "source": [
        "#Lendo elementos para uma lista até digitar fim\n",
        "\n",
        "lista4=[]\n",
        "elemento=input(\"Elemento:\")\n",
        "i=1;\n",
        "while(elemento != \"fim\"):\n",
        "    lista4.append(elemento)\n",
        "    elemento=input(\"Elemento:\")\n",
        "\n",
        "for elemento in lista4:\n",
        "    print(elemento)"
      ],
      "metadata": {
        "colab": {
          "base_uri": "https://localhost:8080/"
        },
        "id": "XIAHTuOVNnTX",
        "outputId": "8eb3bd08-98b3-46a8-bf66-40efe3cf4723"
      },
      "execution_count": null,
      "outputs": [
        {
          "output_type": "stream",
          "name": "stdout",
          "text": [
            "Elemento:banana\n",
            "Elemento:maca\n",
            "Elemento:pera\n",
            "Elemento:fim\n",
            "banana\n",
            "maca\n",
            "pera\n"
          ]
        }
      ]
    },
    {
      "cell_type": "code",
      "source": [
        "# Criação do Dicionário\n",
        "dic = {\"Nome\":'Larissa',\"Sobrenome\":'Maria'}\n",
        "\n",
        "# Operações com Dicionário\n",
        "print(dic[\"Nome\"]) # Imprime o conteúdo da chave Nome\n",
        "print(dic[\"Sobrenome\"]) # Imprime o conteúdo da chave Sobrenome\n",
        "print(dic.keys()) # Imprime apenas as chaves\n",
        "print(dic.values()) # Imprime apenas os conteúdos\n",
        "print(dic.items()) # Imprime as chaves e conteúdos\n",
        "#Inserindo um novo item no dicionário\n",
        "dic[\"Idade\"] = '18'\n",
        "#Alterando o valor das chaves\n",
        "dic[\"Nome\"] = 'Rose'"
      ],
      "metadata": {
        "colab": {
          "base_uri": "https://localhost:8080/"
        },
        "id": "9LIsuA5wN3o6",
        "outputId": "d5efa3de-2844-47d7-ccb1-77e7eda1eff1"
      },
      "execution_count": null,
      "outputs": [
        {
          "output_type": "stream",
          "name": "stdout",
          "text": [
            "Larissa\n",
            "Maria\n",
            "dict_keys(['Nome', 'Sobrenome'])\n",
            "dict_values(['Larissa', 'Maria'])\n",
            "dict_items([('Nome', 'Larissa'), ('Sobrenome', 'Maria')])\n"
          ]
        }
      ]
    },
    {
      "cell_type": "code",
      "source": [
        "#Função GET: retorna o valor da chave e NONE caso não exista\n",
        "print(dic.get('Nome'))\n",
        "print(dic.get('Sobrenome'))\n",
        "\n",
        "#Função DEL: Apaga determinado item do dicionário\n",
        "del dic[\"Nome\"]\n",
        "\n",
        "#Função CLEAR: Apaga todo o dicionário\n",
        "dic.clear()\n",
        "\n",
        "#Função COPY: Copia o conteúdo de um dicionário para outro\n",
        "dic2 = dic.copy()"
      ],
      "metadata": {
        "colab": {
          "base_uri": "https://localhost:8080/"
        },
        "id": "BdlGQa_6N_6I",
        "outputId": "3f246b26-9d77-451d-c0ad-2458ef4ce481"
      },
      "execution_count": null,
      "outputs": [
        {
          "output_type": "stream",
          "name": "stdout",
          "text": [
            "Rose\n",
            "Maria\n"
          ]
        }
      ]
    },
    {
      "cell_type": "code",
      "source": [
        "listatel = {\"ana\":210012,\"bianca\":210045,\"camila\":210019}\n",
        "print(listatel[\"ana\"])\n",
        "print(listatel[\"bianca\"])\n",
        "print(listatel[\"camila\"])\n",
        "print(listatel.keys())\n",
        "print(listatel.values())"
      ],
      "metadata": {
        "colab": {
          "base_uri": "https://localhost:8080/"
        },
        "id": "CnnW_DBzOlpo",
        "outputId": "71e2b845-13d3-4113-d9f1-5f6d455a3a40"
      },
      "execution_count": null,
      "outputs": [
        {
          "output_type": "stream",
          "name": "stdout",
          "text": [
            "210012\n",
            "210045\n",
            "210019\n",
            "dict_keys(['ana', 'bianca', 'camila'])\n",
            "dict_values([210012, 210045, 210019])\n"
          ]
        }
      ]
    },
    {
      "cell_type": "markdown",
      "source": [
        "# Manipulação de Arquivos"
      ],
      "metadata": {
        "id": "Q4RCb9exIT_G"
      }
    },
    {
      "cell_type": "code",
      "source": [
        "# Dado um arquivo de entrada no seguinte formato (arquivo alunos.csv).\n",
        "# Escreva um programa lê um arquivo e imprime as suas linhas.\n",
        "# OBS: INclua o csv no deu drive clicando em montar drive\n",
        "\n",
        "arq = open('/content/drive/MyDrive/alunos.csv', 'r')\n",
        "contador = 1\n",
        "for linha in arq:\n",
        "    print(\"Linha \", contador, \":\", linha)\n",
        "    contador += 1\n",
        "arq.close()"
      ],
      "metadata": {
        "colab": {
          "base_uri": "https://localhost:8080/"
        },
        "id": "gBl2FA0lPpA5",
        "outputId": "2d9e70c7-0574-4dad-8f15-e8f8c5199d1f"
      },
      "execution_count": null,
      "outputs": [
        {
          "output_type": "stream",
          "name": "stdout",
          "text": [
            "Linha  1 : maria,10,15,20,30,40,,,,,,,\n",
            "\n",
            "Linha  2 : ana,23,16,19,22,,,,,,,,\n",
            "\n",
            "Linha  3 : pedro,8,22,17,14,32,17,24,21,2,9,11,17\n",
            "\n",
            "Linha  4 : claudia,12,28,21,45,26,10,,,,,,\n",
            "\n",
            "Linha  5 : joao,14,32,25,16,89,,,,,,,\n",
            "\n"
          ]
        }
      ]
    },
    {
      "cell_type": "code",
      "source": [
        "# Escreva um programa que receba o arquivo como parâmetro e\n",
        "#imprime o nome dos alunos que têm mais de seis notas\n",
        "\n",
        "print(\"Informe o nome do arquivo:\")\n",
        "arquivo = input()\n",
        "arq = open('/content/drive/MyDrive/'+arquivo, 'r')\n",
        "for linha in arq:\n",
        "    colunas = linha.split(',')\n",
        "    if(len(colunas) > 6):\n",
        "        print(colunas[0])\n",
        "arq.close()"
      ],
      "metadata": {
        "colab": {
          "base_uri": "https://localhost:8080/"
        },
        "id": "PlYKnzkWQx-e",
        "outputId": "e3db6bcf-586a-4e5c-e5d4-ab4a3c6612ec"
      },
      "execution_count": null,
      "outputs": [
        {
          "output_type": "stream",
          "name": "stdout",
          "text": [
            "Informe o nome do arquivo:\n",
            "alunos.csv\n",
            "maria\n",
            "ana\n",
            "pedro\n",
            "claudia\n",
            "joao\n"
          ]
        }
      ]
    },
    {
      "cell_type": "code",
      "source": [
        "# Calcular a média das notas\n",
        "arq = open('/content/drive/MyDrive/notas.csv', 'r')\n",
        "for linha in arq:\n",
        "    valores = linha.split(\",\")\n",
        "    media = (float(valores[2]) + float(valores[3]) + float(valores[4]))/3\n",
        "    print(valores[0] , \": \", round(media, 2))\n",
        "arq.close()"
      ],
      "metadata": {
        "colab": {
          "base_uri": "https://localhost:8080/"
        },
        "id": "0fDK4O2HRfM7",
        "outputId": "7efa00f5-853f-4d60-f5ff-022702d9fb87"
      },
      "execution_count": null,
      "outputs": [
        {
          "output_type": "stream",
          "name": "stdout",
          "text": [
            "Maria :  6.17\n",
            "Joao :  8.58\n",
            "Pedro :  6.3\n",
            "Ana :  7.0\n",
            "Lucas :  7.23\n"
          ]
        }
      ]
    },
    {
      "cell_type": "code",
      "source": [
        "# ou\n",
        "arq = open('/content/drive/MyDrive/notas.csv', 'r')\n",
        "for linha in arq:\n",
        "    valores = linha.split(\",\")\n",
        "    media = 0\n",
        "    tamanho = len(valores)\n",
        "    for indice in range(2, tamanho, 1):\n",
        "        media += float(valores[indice])\n",
        "    media = media/(tamanho-2)\n",
        "    print(valores[0], \": \", round(media, 2))\n",
        "arq.close()"
      ],
      "metadata": {
        "colab": {
          "base_uri": "https://localhost:8080/"
        },
        "id": "l9vOEQSZRtIe",
        "outputId": "96dacb69-df45-4e4c-d285-1610ea273931"
      },
      "execution_count": null,
      "outputs": [
        {
          "output_type": "stream",
          "name": "stdout",
          "text": [
            "Maria :  6.17\n",
            "Joao :  8.58\n",
            "Pedro :  6.3\n",
            "Ana :  7.0\n",
            "Lucas :  7.23\n"
          ]
        }
      ]
    }
  ]
}